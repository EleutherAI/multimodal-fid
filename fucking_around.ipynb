{
 "cells": [
  {
   "cell_type": "code",
   "execution_count": 1,
   "id": "a376292c-b8af-4162-8424-9c8b12ec55d8",
   "metadata": {},
   "outputs": [],
   "source": [
    "from ttig.models.model import VqGanCLIPGenerator\n",
    "from ttig.models.vqgan_clip import VQGANConfig"
   ]
  },
  {
   "cell_type": "code",
   "execution_count": 2,
   "id": "fcd4482c-3bbd-4742-a978-3cb2e0176058",
   "metadata": {},
   "outputs": [
    {
     "name": "stdout",
     "output_type": "stream",
     "text": [
      "Working with z of shape (1, 256, 16, 16) = 65536 dimensions.\n",
      "loaded pretrained LPIPS loss from taming/modules/autoencoder/lpips/vgg.pth\n",
      "VQLPIPSWithDiscriminator running with hinge loss.\n",
      "Restored from checkpoints/vqgan/vqgan_imagenet_f16_16384.ckpt\n"
     ]
    }
   ],
   "source": [
    "config = VQGANConfig()\n",
    "im_gen = VqGanCLIPGenerator('checkpoints/vqgan/vqgan_imagenet_f16_16384.ckpt', 'checkpoints/vqgan/vqgan_imagenet_f16_16384.yaml', config, 'ViT-B/16')"
   ]
  },
  {
   "cell_type": "code",
   "execution_count": 3,
   "id": "e94ce7ae-1061-470e-b763-87176fdf8c48",
   "metadata": {},
   "outputs": [
    {
     "name": "stderr",
     "output_type": "stream",
     "text": [
      "  0%|                                                                                                                         | 0/500 [00:00<?, ?it/s]\n"
     ]
    },
    {
     "ename": "NotImplementedError",
     "evalue": "There were no tensor arguments to this function (e.g., you passed an empty list of Tensors), but no fallback function is registered for schema aten::_cat.  This usually means that this function requires a non-empty list of Tensors, or that you (the operator writer) forgot to register a fallback function.  Available functions are [CPU, CUDA, QuantizedCPU, BackendSelect, Python, Named, Conjugate, Negative, ADInplaceOrView, AutogradOther, AutogradCPU, AutogradCUDA, AutogradXLA, AutogradLazy, AutogradXPU, AutogradMLC, AutogradHPU, AutogradNestedTensor, AutogradPrivateUse1, AutogradPrivateUse2, AutogradPrivateUse3, Tracer, UNKNOWN_TENSOR_TYPE_ID, Autocast, Batched, VmapMode].\n\nCPU: registered at /opt/conda/conda-bld/pytorch_1640811803361/work/build/aten/src/ATen/RegisterCPU.cpp:18433 [kernel]\nCUDA: registered at /opt/conda/conda-bld/pytorch_1640811803361/work/build/aten/src/ATen/RegisterCUDA.cpp:26493 [kernel]\nQuantizedCPU: registered at /opt/conda/conda-bld/pytorch_1640811803361/work/build/aten/src/ATen/RegisterQuantizedCPU.cpp:1068 [kernel]\nBackendSelect: fallthrough registered at /opt/conda/conda-bld/pytorch_1640811803361/work/aten/src/ATen/core/BackendSelectFallbackKernel.cpp:3 [backend fallback]\nPython: registered at /opt/conda/conda-bld/pytorch_1640811803361/work/aten/src/ATen/core/PythonFallbackKernel.cpp:47 [backend fallback]\nNamed: registered at /opt/conda/conda-bld/pytorch_1640811803361/work/aten/src/ATen/core/NamedRegistrations.cpp:7 [backend fallback]\nConjugate: registered at /opt/conda/conda-bld/pytorch_1640811803361/work/aten/src/ATen/ConjugateFallback.cpp:18 [backend fallback]\nNegative: registered at /opt/conda/conda-bld/pytorch_1640811803361/work/aten/src/ATen/native/NegateFallback.cpp:18 [backend fallback]\nADInplaceOrView: fallthrough registered at /opt/conda/conda-bld/pytorch_1640811803361/work/aten/src/ATen/core/VariableFallbackKernel.cpp:64 [backend fallback]\nAutogradOther: registered at /opt/conda/conda-bld/pytorch_1640811803361/work/torch/csrc/autograd/generated/VariableType_3.cpp:10215 [autograd kernel]\nAutogradCPU: registered at /opt/conda/conda-bld/pytorch_1640811803361/work/torch/csrc/autograd/generated/VariableType_3.cpp:10215 [autograd kernel]\nAutogradCUDA: registered at /opt/conda/conda-bld/pytorch_1640811803361/work/torch/csrc/autograd/generated/VariableType_3.cpp:10215 [autograd kernel]\nAutogradXLA: registered at /opt/conda/conda-bld/pytorch_1640811803361/work/torch/csrc/autograd/generated/VariableType_3.cpp:10215 [autograd kernel]\nAutogradLazy: registered at /opt/conda/conda-bld/pytorch_1640811803361/work/torch/csrc/autograd/generated/VariableType_3.cpp:10215 [autograd kernel]\nAutogradXPU: registered at /opt/conda/conda-bld/pytorch_1640811803361/work/torch/csrc/autograd/generated/VariableType_3.cpp:10215 [autograd kernel]\nAutogradMLC: registered at /opt/conda/conda-bld/pytorch_1640811803361/work/torch/csrc/autograd/generated/VariableType_3.cpp:10215 [autograd kernel]\nAutogradHPU: registered at /opt/conda/conda-bld/pytorch_1640811803361/work/torch/csrc/autograd/generated/VariableType_3.cpp:10215 [autograd kernel]\nAutogradNestedTensor: registered at /opt/conda/conda-bld/pytorch_1640811803361/work/torch/csrc/autograd/generated/VariableType_3.cpp:10215 [autograd kernel]\nAutogradPrivateUse1: registered at /opt/conda/conda-bld/pytorch_1640811803361/work/torch/csrc/autograd/generated/VariableType_3.cpp:10215 [autograd kernel]\nAutogradPrivateUse2: registered at /opt/conda/conda-bld/pytorch_1640811803361/work/torch/csrc/autograd/generated/VariableType_3.cpp:10215 [autograd kernel]\nAutogradPrivateUse3: registered at /opt/conda/conda-bld/pytorch_1640811803361/work/torch/csrc/autograd/generated/VariableType_3.cpp:10215 [autograd kernel]\nTracer: registered at /opt/conda/conda-bld/pytorch_1640811803361/work/torch/csrc/autograd/generated/TraceType_3.cpp:11593 [kernel]\nUNKNOWN_TENSOR_TYPE_ID: fallthrough registered at /opt/conda/conda-bld/pytorch_1640811803361/work/aten/src/ATen/autocast_mode.cpp:466 [backend fallback]\nAutocast: fallthrough registered at /opt/conda/conda-bld/pytorch_1640811803361/work/aten/src/ATen/autocast_mode.cpp:305 [backend fallback]\nBatched: registered at /opt/conda/conda-bld/pytorch_1640811803361/work/aten/src/ATen/BatchingRegistrations.cpp:1016 [backend fallback]\nVmapMode: fallthrough registered at /opt/conda/conda-bld/pytorch_1640811803361/work/aten/src/ATen/VmapModeRegistrations.cpp:33 [backend fallback]\n",
     "output_type": "error",
     "traceback": [
      "\u001b[0;31m---------------------------------------------------------------------------\u001b[0m",
      "\u001b[0;31mNotImplementedError\u001b[0m                       Traceback (most recent call last)",
      "\u001b[0;32m/tmp/ipykernel_338922/486328977.py\u001b[0m in \u001b[0;36m<module>\u001b[0;34m\u001b[0m\n\u001b[0;32m----> 1\u001b[0;31m \u001b[0mim_gen\u001b[0m\u001b[0;34m.\u001b[0m\u001b[0mgenerate\u001b[0m\u001b[0;34m(\u001b[0m\u001b[0;34m'how do I separate my soul from you'\u001b[0m\u001b[0;34m)\u001b[0m\u001b[0;34m\u001b[0m\u001b[0;34m\u001b[0m\u001b[0m\n\u001b[0m",
      "\u001b[0;32m~/workspace/text2image-generation/ttig/models/model.py\u001b[0m in \u001b[0;36mgenerate\u001b[0;34m(self, prompts)\u001b[0m\n\u001b[1;32m    146\u001b[0m             \u001b[0;31m# Change text prompt\u001b[0m\u001b[0;34m\u001b[0m\u001b[0;34m\u001b[0m\u001b[0m\n\u001b[1;32m    147\u001b[0m             \u001b[0mopt\u001b[0m\u001b[0;34m.\u001b[0m\u001b[0mzero_grad\u001b[0m\u001b[0;34m(\u001b[0m\u001b[0mset_to_none\u001b[0m\u001b[0;34m=\u001b[0m\u001b[0;32mTrue\u001b[0m\u001b[0;34m)\u001b[0m\u001b[0;34m\u001b[0m\u001b[0;34m\u001b[0m\u001b[0m\n\u001b[0;32m--> 148\u001b[0;31m             \u001b[0mloss\u001b[0m \u001b[0;34m=\u001b[0m \u001b[0mself\u001b[0m\u001b[0;34m.\u001b[0m\u001b[0mupdate_step\u001b[0m\u001b[0;34m(\u001b[0m\u001b[0mz\u001b[0m\u001b[0;34m,\u001b[0m \u001b[0mprompts\u001b[0m\u001b[0;34m)\u001b[0m\u001b[0;34m\u001b[0m\u001b[0;34m\u001b[0m\u001b[0m\n\u001b[0m\u001b[1;32m    149\u001b[0m             \u001b[0mloss\u001b[0m\u001b[0;34m.\u001b[0m\u001b[0mbackward\u001b[0m\u001b[0;34m(\u001b[0m\u001b[0;34m)\u001b[0m\u001b[0;34m\u001b[0m\u001b[0;34m\u001b[0m\u001b[0m\n\u001b[1;32m    150\u001b[0m             \u001b[0mopt\u001b[0m\u001b[0;34m.\u001b[0m\u001b[0mstep\u001b[0m\u001b[0;34m(\u001b[0m\u001b[0;34m)\u001b[0m\u001b[0;34m\u001b[0m\u001b[0;34m\u001b[0m\u001b[0m\n",
      "\u001b[0;32m~/workspace/text2image-generation/ttig/models/model.py\u001b[0m in \u001b[0;36mupdate_step\u001b[0;34m(self, z, prompts)\u001b[0m\n\u001b[1;32m    114\u001b[0m         \u001b[0;32mfor\u001b[0m \u001b[0mprompt\u001b[0m \u001b[0;32min\u001b[0m \u001b[0mprompts\u001b[0m\u001b[0;34m:\u001b[0m\u001b[0;34m\u001b[0m\u001b[0;34m\u001b[0m\u001b[0m\n\u001b[1;32m    115\u001b[0m             \u001b[0mresult\u001b[0m\u001b[0;34m.\u001b[0m\u001b[0mappend\u001b[0m\u001b[0;34m(\u001b[0m\u001b[0mprompt\u001b[0m\u001b[0;34m(\u001b[0m\u001b[0miii\u001b[0m\u001b[0;34m)\u001b[0m\u001b[0;34m)\u001b[0m \u001b[0;31m# WHERE THE MAGIC HAPPENS\u001b[0m\u001b[0;34m\u001b[0m\u001b[0;34m\u001b[0m\u001b[0m\n\u001b[0;32m--> 116\u001b[0;31m         \u001b[0;32mreturn\u001b[0m \u001b[0mtorch\u001b[0m\u001b[0;34m.\u001b[0m\u001b[0mconcat\u001b[0m\u001b[0;34m(\u001b[0m\u001b[0mresult\u001b[0m\u001b[0;34m)\u001b[0m\u001b[0;34m.\u001b[0m\u001b[0msum\u001b[0m\u001b[0;34m(\u001b[0m\u001b[0;34m)\u001b[0m \u001b[0;31m# return loss\u001b[0m\u001b[0;34m\u001b[0m\u001b[0;34m\u001b[0m\u001b[0m\n\u001b[0m\u001b[1;32m    117\u001b[0m \u001b[0;34m\u001b[0m\u001b[0m\n\u001b[1;32m    118\u001b[0m     \u001b[0;32mdef\u001b[0m \u001b[0mgenerate\u001b[0m\u001b[0;34m(\u001b[0m\u001b[0mself\u001b[0m\u001b[0;34m,\u001b[0m \u001b[0mprompts\u001b[0m\u001b[0;34m)\u001b[0m\u001b[0;34m:\u001b[0m\u001b[0;34m\u001b[0m\u001b[0;34m\u001b[0m\u001b[0m\n",
      "\u001b[0;31mNotImplementedError\u001b[0m: There were no tensor arguments to this function (e.g., you passed an empty list of Tensors), but no fallback function is registered for schema aten::_cat.  This usually means that this function requires a non-empty list of Tensors, or that you (the operator writer) forgot to register a fallback function.  Available functions are [CPU, CUDA, QuantizedCPU, BackendSelect, Python, Named, Conjugate, Negative, ADInplaceOrView, AutogradOther, AutogradCPU, AutogradCUDA, AutogradXLA, AutogradLazy, AutogradXPU, AutogradMLC, AutogradHPU, AutogradNestedTensor, AutogradPrivateUse1, AutogradPrivateUse2, AutogradPrivateUse3, Tracer, UNKNOWN_TENSOR_TYPE_ID, Autocast, Batched, VmapMode].\n\nCPU: registered at /opt/conda/conda-bld/pytorch_1640811803361/work/build/aten/src/ATen/RegisterCPU.cpp:18433 [kernel]\nCUDA: registered at /opt/conda/conda-bld/pytorch_1640811803361/work/build/aten/src/ATen/RegisterCUDA.cpp:26493 [kernel]\nQuantizedCPU: registered at /opt/conda/conda-bld/pytorch_1640811803361/work/build/aten/src/ATen/RegisterQuantizedCPU.cpp:1068 [kernel]\nBackendSelect: fallthrough registered at /opt/conda/conda-bld/pytorch_1640811803361/work/aten/src/ATen/core/BackendSelectFallbackKernel.cpp:3 [backend fallback]\nPython: registered at /opt/conda/conda-bld/pytorch_1640811803361/work/aten/src/ATen/core/PythonFallbackKernel.cpp:47 [backend fallback]\nNamed: registered at /opt/conda/conda-bld/pytorch_1640811803361/work/aten/src/ATen/core/NamedRegistrations.cpp:7 [backend fallback]\nConjugate: registered at /opt/conda/conda-bld/pytorch_1640811803361/work/aten/src/ATen/ConjugateFallback.cpp:18 [backend fallback]\nNegative: registered at /opt/conda/conda-bld/pytorch_1640811803361/work/aten/src/ATen/native/NegateFallback.cpp:18 [backend fallback]\nADInplaceOrView: fallthrough registered at /opt/conda/conda-bld/pytorch_1640811803361/work/aten/src/ATen/core/VariableFallbackKernel.cpp:64 [backend fallback]\nAutogradOther: registered at /opt/conda/conda-bld/pytorch_1640811803361/work/torch/csrc/autograd/generated/VariableType_3.cpp:10215 [autograd kernel]\nAutogradCPU: registered at /opt/conda/conda-bld/pytorch_1640811803361/work/torch/csrc/autograd/generated/VariableType_3.cpp:10215 [autograd kernel]\nAutogradCUDA: registered at /opt/conda/conda-bld/pytorch_1640811803361/work/torch/csrc/autograd/generated/VariableType_3.cpp:10215 [autograd kernel]\nAutogradXLA: registered at /opt/conda/conda-bld/pytorch_1640811803361/work/torch/csrc/autograd/generated/VariableType_3.cpp:10215 [autograd kernel]\nAutogradLazy: registered at /opt/conda/conda-bld/pytorch_1640811803361/work/torch/csrc/autograd/generated/VariableType_3.cpp:10215 [autograd kernel]\nAutogradXPU: registered at /opt/conda/conda-bld/pytorch_1640811803361/work/torch/csrc/autograd/generated/VariableType_3.cpp:10215 [autograd kernel]\nAutogradMLC: registered at /opt/conda/conda-bld/pytorch_1640811803361/work/torch/csrc/autograd/generated/VariableType_3.cpp:10215 [autograd kernel]\nAutogradHPU: registered at /opt/conda/conda-bld/pytorch_1640811803361/work/torch/csrc/autograd/generated/VariableType_3.cpp:10215 [autograd kernel]\nAutogradNestedTensor: registered at /opt/conda/conda-bld/pytorch_1640811803361/work/torch/csrc/autograd/generated/VariableType_3.cpp:10215 [autograd kernel]\nAutogradPrivateUse1: registered at /opt/conda/conda-bld/pytorch_1640811803361/work/torch/csrc/autograd/generated/VariableType_3.cpp:10215 [autograd kernel]\nAutogradPrivateUse2: registered at /opt/conda/conda-bld/pytorch_1640811803361/work/torch/csrc/autograd/generated/VariableType_3.cpp:10215 [autograd kernel]\nAutogradPrivateUse3: registered at /opt/conda/conda-bld/pytorch_1640811803361/work/torch/csrc/autograd/generated/VariableType_3.cpp:10215 [autograd kernel]\nTracer: registered at /opt/conda/conda-bld/pytorch_1640811803361/work/torch/csrc/autograd/generated/TraceType_3.cpp:11593 [kernel]\nUNKNOWN_TENSOR_TYPE_ID: fallthrough registered at /opt/conda/conda-bld/pytorch_1640811803361/work/aten/src/ATen/autocast_mode.cpp:466 [backend fallback]\nAutocast: fallthrough registered at /opt/conda/conda-bld/pytorch_1640811803361/work/aten/src/ATen/autocast_mode.cpp:305 [backend fallback]\nBatched: registered at /opt/conda/conda-bld/pytorch_1640811803361/work/aten/src/ATen/BatchingRegistrations.cpp:1016 [backend fallback]\nVmapMode: fallthrough registered at /opt/conda/conda-bld/pytorch_1640811803361/work/aten/src/ATen/VmapModeRegistrations.cpp:33 [backend fallback]\n"
     ]
    }
   ],
   "source": [
    "im_gen.generate('how do I separate my soul from you')"
   ]
  },
  {
   "cell_type": "code",
   "execution_count": null,
   "id": "ed2ee3b0-a445-4c86-9012-358f063c8018",
   "metadata": {},
   "outputs": [],
   "source": []
  },
  {
   "cell_type": "code",
   "execution_count": null,
   "id": "8fa12ac4-d3f6-4f04-b857-9b2552af3657",
   "metadata": {},
   "outputs": [],
   "source": []
  }
 ],
 "metadata": {
  "kernelspec": {
   "display_name": "Python [conda env:ttig]",
   "language": "python",
   "name": "conda-env-ttig-py"
  },
  "language_info": {
   "codemirror_mode": {
    "name": "ipython",
    "version": 3
   },
   "file_extension": ".py",
   "mimetype": "text/x-python",
   "name": "python",
   "nbconvert_exporter": "python",
   "pygments_lexer": "ipython3",
   "version": "3.9.10"
  }
 },
 "nbformat": 4,
 "nbformat_minor": 5
}
